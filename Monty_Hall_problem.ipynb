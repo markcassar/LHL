{
 "cells": [
  {
   "cell_type": "code",
   "execution_count": 1,
   "id": "806d4015-875d-4096-bc15-9363db72c6c2",
   "metadata": {},
   "outputs": [],
   "source": [
    "import numpy as np\n",
    "\n",
    "def simulate_prizedoor(nsim):\n",
    "    prize_door = np.random.randint(0, high=3, size=(nsim, ), dtype=int)\n",
    "    guesses = np.random.randint(0, high=3, size=(nsim, ), dtype=int)\n",
    "    return (prize_door, guesses)"
   ]
  },
  {
   "cell_type": "code",
   "execution_count": 37,
   "id": "d13c4c4f-1900-49dd-9976-c09f6e563b55",
   "metadata": {},
   "outputs": [],
   "source": [
    "def goat_door(prizes, guesses):\n",
    "    goats = []\n",
    "    for i in range(len(prizes)):\n",
    "        doors_to_choose = list(set([0, 1, 2]) - set([prizes[i]] + [guesses[i]]))\n",
    "        goat_choice = np.random.choice(doors_to_choose)\n",
    "        goats.append(goat_choice)\n",
    "    return goats"
   ]
  },
  {
   "cell_type": "code",
   "execution_count": 38,
   "id": "60e28156-89d3-472e-857e-a22e6ff7bcc9",
   "metadata": {},
   "outputs": [],
   "source": [
    "def win_percentage(prizes, guesses, switch=False):\n",
    "    win_pct = 100 * np.sum(prizes==guesses) / prizes.shape[0]\n",
    "    if switch:\n",
    "        goats = goat_door(prizes, guesses)\n",
    "        new_guesses = []\n",
    "        for i in range(len(prizes)):\n",
    "            new_choice = list(set([0, 1, 2]) - set([guesses[i]] + [goats[i]]))\n",
    "            new_guesses.append(new_choice[0])\n",
    "        win_pct = 100 * np.sum(prizes==new_guesses) / prizes.shape[0]\n",
    "        \n",
    "    return np.round(win_pct, 2)"
   ]
  },
  {
   "cell_type": "code",
   "execution_count": 36,
   "id": "11df3617-d426-4f61-8ec5-a24244f592c2",
   "metadata": {},
   "outputs": [],
   "source": [
    "prizes, guesses = simulate_prizedoor(10000)"
   ]
  },
  {
   "cell_type": "code",
   "execution_count": 39,
   "id": "f676f10e-1088-4162-87e4-9c48db38a8e1",
   "metadata": {},
   "outputs": [
    {
     "data": {
      "text/plain": [
       "32.96"
      ]
     },
     "execution_count": 39,
     "metadata": {},
     "output_type": "execute_result"
    }
   ],
   "source": [
    "win_percentage(prizes, guesses, switch=False)"
   ]
  },
  {
   "cell_type": "code",
   "execution_count": 40,
   "id": "9e5bf1d7-7dfe-433f-b371-536b8eb6b9c6",
   "metadata": {},
   "outputs": [
    {
     "data": {
      "text/plain": [
       "67.04"
      ]
     },
     "execution_count": 40,
     "metadata": {},
     "output_type": "execute_result"
    }
   ],
   "source": [
    "win_percentage(prizes, guesses, switch=True)"
   ]
  },
  {
   "cell_type": "code",
   "execution_count": null,
   "id": "218fe3dc-6438-4a3b-9662-9509a0ffed74",
   "metadata": {},
   "outputs": [],
   "source": []
  }
 ],
 "metadata": {
  "kernelspec": {
   "display_name": "Python 3 (ipykernel)",
   "language": "python",
   "name": "python3"
  },
  "language_info": {
   "codemirror_mode": {
    "name": "ipython",
    "version": 3
   },
   "file_extension": ".py",
   "mimetype": "text/x-python",
   "name": "python",
   "nbconvert_exporter": "python",
   "pygments_lexer": "ipython3",
   "version": "3.7.13"
  }
 },
 "nbformat": 4,
 "nbformat_minor": 5
}
