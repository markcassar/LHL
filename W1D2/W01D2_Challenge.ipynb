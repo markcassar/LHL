{
 "cells": [
  {
   "cell_type": "code",
   "execution_count": null,
   "id": "8d716bf4-20fe-4c76-a71d-a2eef17e93ba",
   "metadata": {},
   "outputs": [],
   "source": [
    "freed_prisoners([1, 1, 0, 0, 0, 1, 0]) ➞ 4\n",
    "freed_prisoners([1, 1, 1]) ➞ 1\n",
    "freed_prisoners([0, 0, 0]) ➞ 0\n",
    "freed_prisoners([0, 1, 1, 1]) ➞ 1  #####"
   ]
  },
  {
   "cell_type": "code",
   "execution_count": 67,
   "id": "ad6add44-702d-41c6-a213-36aa72c185b1",
   "metadata": {},
   "outputs": [],
   "source": [
    "def prisoners(a_list, count=0):\n",
    "    if sum(a_list)==0:\n",
    "        return count\n",
    "    else:\n",
    "        for i, x in enumerate(a_list):\n",
    "            if x==1:\n",
    "                count += 1\n",
    "                new_list = [ int(not bool(j)) for j in a_list[(i + 1): ]]\n",
    "                return prisoners(new_list, count=count)"
   ]
  },
  {
   "cell_type": "code",
   "execution_count": 73,
   "id": "4f202208-c76d-405c-b98f-4588f7c699a3",
   "metadata": {},
   "outputs": [
    {
     "data": {
      "text/plain": [
       "1"
      ]
     },
     "execution_count": 73,
     "metadata": {},
     "output_type": "execute_result"
    }
   ],
   "source": [
    "prisoners([0, 1, 1, 1])"
   ]
  },
  {
   "cell_type": "code",
   "execution_count": null,
   "id": "1690f54f-0d16-4f3c-a5fa-57e8d4a7fc8b",
   "metadata": {},
   "outputs": [],
   "source": []
  },
  {
   "cell_type": "markdown",
   "id": "3df29242-1a53-4b13-abde-ab8ab7bb384f",
   "metadata": {},
   "source": [
    "**Lego_small** data [source](https://www.kaggle.com/joosthazelzet/lego-brick-images) "
   ]
  },
  {
   "cell_type": "code",
   "execution_count": 1,
   "id": "1e73cb15",
   "metadata": {},
   "outputs": [],
   "source": [
    "from tensorflow.keras.preprocessing.image import load_img, img_to_array, smart_resize\n",
    "import matplotlib.pyplot as plt\n",
    "from pathlib import Path\n",
    "import numpy as np"
   ]
  },
  {
   "cell_type": "code",
   "execution_count": 2,
   "id": "e3482fb8",
   "metadata": {},
   "outputs": [],
   "source": [
    "p = Path()  #.cwd()\n",
    "q = p /  'Lego_small' # use p to create a path to the Lego data \n",
    "\n",
    "target_dict = {\"brick 1x2\": 0, \n",
    "               \"brick 2x2\": 1, \n",
    "               \"brick 2x4\": 2, \n",
    "               \"plate 1x2\": 3, \n",
    "               \"plate 2x2\": 4, \n",
    "               \"plate 2x4\": 5} # create dictionary mapping Lego block type to integer label \n",
    "\n",
    "images = [] # create an empty list\n",
    "labels = [] # create an empty list\n",
    "\n",
    "for fldr in q.iterdir(): \n",
    "    current_label = fldr.name # get the name of the current label   \n",
    "    for img in fldr.iterdir():\n",
    "        img = load_img(img, color_mode='grayscale') # load a grayscale image  \n",
    "        img_array = img_to_array(img) # convert the image to an NumPy array \n",
    "        img_array_resized = smart_resize(img_array, [128, 128]) # resize the image to 128 by 128 \n",
    "        img_array_reshaped = img_array_resized.reshape(128, 128) # reshape the image from (128, 128, 1) to (128, 128)\n",
    "        images.append(img_array_reshaped) # add reshaped image to list of images \n",
    "        labels.append(current_label) # add label for this image to the list of labels \n",
    "\n",
    "images = np.array(images) # convert the list of images to a NumPy array \n",
    "labels = np.array(labels) # convert the list of labels to a NumPy array"
   ]
  },
  {
   "cell_type": "code",
   "execution_count": 6,
   "id": "53031fc1-3e49-4602-abdf-cb9db80c0908",
   "metadata": {},
   "outputs": [
    {
     "data": {
      "text/plain": [
       "array(['brick 1x2', 'brick 1x2', 'brick 1x2', 'brick 1x2', 'brick 1x2',\n",
       "       'brick 1x2', 'brick 1x2', 'brick 1x2', 'brick 2x2', 'brick 2x2',\n",
       "       'brick 2x2', 'brick 2x2', 'brick 2x2', 'brick 2x2', 'brick 2x2',\n",
       "       'brick 2x2', 'brick 2x4', 'brick 2x4', 'brick 2x4', 'brick 2x4',\n",
       "       'brick 2x4', 'brick 2x4', 'brick 2x4', 'brick 2x4', 'plate 1x2',\n",
       "       'plate 1x2', 'plate 1x2', 'plate 1x2', 'plate 1x2', 'plate 1x2',\n",
       "       'plate 1x2', 'plate 1x2', 'plate 2x2', 'plate 2x2', 'plate 2x2',\n",
       "       'plate 2x2', 'plate 2x2', 'plate 2x2', 'plate 2x2', 'plate 2x2',\n",
       "       'plate 2x4', 'plate 2x4', 'plate 2x4', 'plate 2x4', 'plate 2x4',\n",
       "       'plate 2x4', 'plate 2x4', 'plate 2x4'], dtype='<U9')"
      ]
     },
     "execution_count": 6,
     "metadata": {},
     "output_type": "execute_result"
    }
   ],
   "source": [
    "labels"
   ]
  },
  {
   "cell_type": "code",
   "execution_count": 5,
   "id": "fdce0df5",
   "metadata": {},
   "outputs": [
    {
     "data": {
      "text/plain": [
       "<matplotlib.image.AxesImage at 0x1f8c9bd86c8>"
      ]
     },
     "execution_count": 5,
     "metadata": {},
     "output_type": "execute_result"
    },
    {
     "data": {
      "image/png": "[encoded data removed]",
      "text/plain": [
       "<Figure size 432x288 with 1 Axes>"
      ]
     },
     "metadata": {
      "needs_background": "light"
     },
     "output_type": "display_data"
    }
   ],
   "source": [
    "# use plt.imshow() to view a few of the grayscale images\n",
    "\n",
    "plt.imshow(images[10], cmap='gray')"
   ]
  },
  {
   "cell_type": "code",
   "execution_count": 10,
   "id": "906b0432",
   "metadata": {},
   "outputs": [],
   "source": [
    "labels_int = np.array([target_dict[k] for k in labels]) # use the target_dict to convert the string labels to an array of integers"
   ]
  }
 ],
 "metadata": {
  "kernelspec": {
   "display_name": "Python 3 (ipykernel)",
   "language": "python",
   "name": "python3"
  },
  "language_info": {
   "codemirror_mode": {
    "name": "ipython",
    "version": 3
   },
   "file_extension": ".py",
   "mimetype": "text/x-python",
   "name": "python",
   "nbconvert_exporter": "python",
   "pygments_lexer": "ipython3",
   "version": "3.7.13"
  }
 },
 "nbformat": 4,
 "nbformat_minor": 5
}
